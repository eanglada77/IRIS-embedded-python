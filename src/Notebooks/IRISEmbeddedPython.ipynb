{
 "cells": [
  {
   "cell_type": "markdown",
   "id": "eb1e8ad9",
   "metadata": {},
   "source": [
    "# IRIS EmbeddedPython"
   ]
  },
  {
   "cell_type": "code",
   "execution_count": 2,
   "id": "746a0d62",
   "metadata": {},
   "outputs": [],
   "source": [
    "import iris\n"
   ]
  },
  {
   "cell_type": "code",
   "execution_count": 3,
   "id": "9d874a04",
   "metadata": {},
   "outputs": [
    {
     "name": "stdout",
     "output_type": "stream",
     "text": [
      "\n",
      "InterSystems IRIS version:\n",
      "IRIS for UNIX (Ubuntu Server LTS for x86-64 Containers) 2021.2 (Build 651U) Mon Jan 31 2022 18:07:01 EST\n"
     ]
    }
   ],
   "source": [
    "print('\\nInterSystems IRIS version:')\n",
    "irisVersion = iris.cls('%SYSTEM.Version').GetVersion()\n",
    "print(irisVersion)\n"
   ]
  },
  {
   "cell_type": "code",
   "execution_count": null,
   "id": "bbb98951",
   "metadata": {},
   "outputs": [],
   "source": []
  },
  {
   "cell_type": "code",
   "execution_count": null,
   "id": "1cc407b4",
   "metadata": {},
   "outputs": [],
   "source": []
  },
  {
   "cell_type": "code",
   "execution_count": null,
   "id": "eb69fd2c",
   "metadata": {},
   "outputs": [],
   "source": []
  }
 ],
 "metadata": {
  "kernelspec": {
   "display_name": "IRIS Python",
   "language": "python",
   "name": "irispython"
  },
  "language_info": {
   "codemirror_mode": {
    "name": "ipython",
    "version": 3
   },
   "file_extension": ".py",
   "mimetype": "text/x-python",
   "name": "python",
   "nbconvert_exporter": "python",
   "pygments_lexer": "ipython3",
   "version": "3.8.10"
  }
 },
 "nbformat": 4,
 "nbformat_minor": 5
}

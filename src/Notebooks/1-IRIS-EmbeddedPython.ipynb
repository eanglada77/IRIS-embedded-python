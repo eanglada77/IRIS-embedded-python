{
 "cells": [
  {
   "cell_type": "markdown",
   "id": "eb1e8ad9",
   "metadata": {},
   "source": [
    "# IRIS: Python embebido"
   ]
  },
  {
   "cell_type": "code",
   "execution_count": null,
   "id": "746a0d62",
   "metadata": {},
   "outputs": [],
   "source": [
    "import iris\n",
    "\n",
    "#Pandas dataframes\n",
    "import pandas as pd\n",
    "pd.options.display.max_rows = 9\n"
   ]
  },
  {
   "cell_type": "code",
   "execution_count": null,
   "id": "9d874a04",
   "metadata": {},
   "outputs": [],
   "source": [
    "print('\\nInterSystems IRIS version:')\n",
    "irisVersion = iris.cls('%SYSTEM.Version').GetVersion()\n",
    "print(irisVersion)\n"
   ]
  },
  {
   "cell_type": "markdown",
   "id": "2b340f5f",
   "metadata": {},
   "source": [
    "# SQL\n",
    "Las consultas SQL se hacen así:\n",
    "\n",
    "iris.sql.exec('select * from ...')"
   ]
  },
  {
   "cell_type": "code",
   "execution_count": null,
   "id": "1cc407b4",
   "metadata": {},
   "outputs": [],
   "source": [
    "rs = iris.sql.exec('SELECT TOP 5 * FROM %SYS.ProcessQuery')\n",
    "df = rs.dataframe()\n",
    "\n",
    "jsn = df.to_json\n",
    "print(jsn)\n",
    "#df\n",
    "df.dtypes\n",
    "print(df.columns)\n",
    "print(df.size)\n"
   ]
  },
  {
   "cell_type": "markdown",
   "id": "29dfb44d",
   "metadata": {},
   "source": [
    "## Data frames\n",
    "Es una estructura de datos que puede almacenar el resultado de una consulta"
   ]
  },
  {
   "cell_type": "code",
   "execution_count": null,
   "id": "eb69fd2c",
   "metadata": {},
   "outputs": [],
   "source": [
    "rs = iris.sql.exec('SELECT * FROM Titanic_Table.Passenger')\n",
    "df = rs.dataframe()\n",
    "df"
   ]
  },
  {
   "cell_type": "markdown",
   "id": "43c536b5",
   "metadata": {},
   "source": [
    "# Llamando a las clases de IRIS\n",
    "iris.cls('clase').metodo()"
   ]
  },
  {
   "cell_type": "code",
   "execution_count": null,
   "id": "efe8dbe8",
   "metadata": {},
   "outputs": [],
   "source": [
    "lf = iris.cls('%Library.File')\n",
    "print(lf.ManagerDirectory())"
   ]
  },
  {
   "cell_type": "markdown",
   "id": "e2e7af24",
   "metadata": {},
   "source": [
    "# Clases persistentes\n",
    "Recordad que los % tienen que ser substituidos por _ "
   ]
  },
  {
   "cell_type": "markdown",
   "id": "f598bf45",
   "metadata": {},
   "source": [
    "```\n",
    "Class Sample.Company Extends (%Persistent, %Populate, %XML.Adaptor)\n",
    "{\n",
    "\n",
    "/// The company's name.\n",
    "Property Name As %String(MAXLEN = 80, POPSPEC = \"Company()\") [ Required ];\n",
    "\n",
    "/// The company's mission statement.\n",
    "Property Mission As %String(MAXLEN = 200, POPSPEC = \"Mission()\");\n",
    "\n",
    "/// The unique Tax ID number for the company.\n",
    "Property TaxID As %String [ Required ];\n",
    "\n",
    "/// The last reported revenue for the company.\n",
    "Property Revenue As %Integer;\n",
    "\n",
    "}\n",
    "```"
   ]
  },
  {
   "cell_type": "code",
   "execution_count": null,
   "id": "4fbeb2f6",
   "metadata": {},
   "outputs": [],
   "source": [
    "myCompany = iris.cls('ObjectScript.Sample.Company')._New()\n",
    "myCompany.Name = 'Acme Widgets Webinar!, Inc.'\n",
    "myCompany.TaxID = '123456789'\n",
    "status = myCompany._Save()\n",
    "print (status)"
   ]
  },
  {
   "cell_type": "code",
   "execution_count": null,
   "id": "4cac5d08",
   "metadata": {},
   "outputs": [],
   "source": [
    "print(myCompany._Id())\n"
   ]
  },
  {
   "cell_type": "code",
   "execution_count": null,
   "id": "9c6d79b4",
   "metadata": {},
   "outputs": [],
   "source": [
    "yourCompany = iris.cls(\"ObjectScript.Sample.Company\")._OpenId(1)"
   ]
  },
  {
   "cell_type": "code",
   "execution_count": null,
   "id": "e0d8638c",
   "metadata": {},
   "outputs": [],
   "source": [
    "print(yourCompany.Name)\n"
   ]
  },
  {
   "cell_type": "markdown",
   "id": "7d30724f",
   "metadata": {},
   "source": [
    "## Añadimos un método escrito en Python:\n",
    "```\n",
    "Method Print() [ Language = python ]\n",
    "{\n",
    "    print ('\\nName: ' + self.Name + ' TaxID: ' + self.TaxID)\n",
    "}\n",
    "```"
   ]
  },
  {
   "cell_type": "code",
   "execution_count": null,
   "id": "4db07496",
   "metadata": {},
   "outputs": [],
   "source": [
    "yourCompany.Print()"
   ]
  },
  {
   "cell_type": "markdown",
   "id": "21eb4d7c",
   "metadata": {},
   "source": [
    "# Manejando Globals"
   ]
  },
  {
   "cell_type": "code",
   "execution_count": null,
   "id": "015af5d2",
   "metadata": {},
   "outputs": [],
   "source": [
    "myGref = iris.gref('^Workdays')"
   ]
  },
  {
   "cell_type": "code",
   "execution_count": null,
   "id": "74da2a1c",
   "metadata": {},
   "outputs": [],
   "source": [
    "myGref[None] = 5"
   ]
  },
  {
   "cell_type": "code",
   "execution_count": null,
   "id": "7abc3457",
   "metadata": {},
   "outputs": [],
   "source": [
    "myGref[1] = 'Monday'"
   ]
  },
  {
   "cell_type": "code",
   "execution_count": null,
   "id": "3c7dd44e",
   "metadata": {},
   "outputs": [],
   "source": [
    "myGref[2] = 'Tuesday'"
   ]
  },
  {
   "cell_type": "code",
   "execution_count": null,
   "id": "418ba2a0",
   "metadata": {},
   "outputs": [],
   "source": [
    "myGref[3] = 'Wednesday'"
   ]
  },
  {
   "cell_type": "code",
   "execution_count": null,
   "id": "39435f61",
   "metadata": {},
   "outputs": [],
   "source": [
    "myGref[4] = 'Thursday'"
   ]
  },
  {
   "cell_type": "code",
   "execution_count": null,
   "id": "aed8ac86",
   "metadata": {},
   "outputs": [],
   "source": [
    "myGref[5] = 'Friday'"
   ]
  },
  {
   "cell_type": "code",
   "execution_count": null,
   "id": "16ed0296",
   "metadata": {},
   "outputs": [],
   "source": [
    "print(myGref[3])"
   ]
  },
  {
   "cell_type": "markdown",
   "id": "5a1151c1",
   "metadata": {},
   "source": [
    "# Procedimientos almacenados escritos en Python"
   ]
  },
  {
   "cell_type": "markdown",
   "id": "46c4211b",
   "metadata": {},
   "source": [
    "```SQL\n",
    "CREATE FUNCTION tzconvert(dt DATETIME, tzfrom VARCHAR, tzto VARCHAR)\n",
    "    RETURNS DATETIME\n",
    "    LANGUAGE PYTHON\n",
    "{\n",
    "    from datetime import datetime\n",
    "    from dateutil import parser, tz\n",
    "    d = parser.parse(dt)\n",
    "    if (tzfrom is not None):\n",
    "        tzf = tz.gettz(tzfrom)\n",
    "        d = d.replace(tzinfo = tzf)\n",
    "    return d.astimezone(tz.gettz(tzto)).strftime(\"%Y-%m-%d %H:%M:%S\")\n",
    "}\n",
    "```"
   ]
  },
  {
   "cell_type": "code",
   "execution_count": null,
   "id": "467717ac",
   "metadata": {},
   "outputs": [],
   "source": [
    "convert = iris.sql.exec(\"SELECT tzconvert(now(), 'US/Eastern', 'UTC')\")\n",
    "for row in convert:\n",
    "    print (row)\n"
   ]
  },
  {
   "cell_type": "markdown",
   "id": "2d013b45",
   "metadata": {},
   "source": [
    "## Ejemplo: códigos Qr"
   ]
  },
  {
   "cell_type": "code",
   "execution_count": null,
   "id": "3312e4a3",
   "metadata": {},
   "outputs": [],
   "source": [
    "import qrcode\n",
    "import matplotlib.pyplot as plt"
   ]
  },
  {
   "cell_type": "code",
   "execution_count": null,
   "id": "882a86b8",
   "metadata": {},
   "outputs": [],
   "source": [
    "data = \"Generador de códigos Qr para IRIS!\"\n",
    "filename = \"IRISQRCode.png\"\n",
    "\n",
    "image = qrcode.make(data)\n",
    "\n",
    "image.save(filename)\n",
    "plt.imshow(image,cmap='gray')"
   ]
  },
  {
   "cell_type": "code",
   "execution_count": null,
   "id": "6de876f0",
   "metadata": {},
   "outputs": [],
   "source": []
  }
 ],
 "metadata": {
  "kernelspec": {
   "display_name": "IRIS Python",
   "language": "python",
   "name": "irispython"
  },
  "language_info": {
   "codemirror_mode": {
    "name": "ipython",
    "version": 3
   },
   "file_extension": ".py",
   "mimetype": "text/x-python",
   "name": "python",
   "nbconvert_exporter": "python",
   "pygments_lexer": "ipython3",
   "version": "3.8.10"
  }
 },
 "nbformat": 4,
 "nbformat_minor": 5
}

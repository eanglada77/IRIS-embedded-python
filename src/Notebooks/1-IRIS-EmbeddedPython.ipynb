{
 "cells": [
  {
   "cell_type": "markdown",
   "id": "eb1e8ad9",
   "metadata": {},
   "source": [
    "# IRIS EmbeddedPython"
   ]
  },
  {
   "cell_type": "code",
   "execution_count": 2,
   "id": "746a0d62",
   "metadata": {},
   "outputs": [],
   "source": [
    "import iris\n",
    "\n",
    "#Pandas dataframes\n",
    "import pandas as pd\n",
    "pd.options.display.max_rows = 9\n"
   ]
  },
  {
   "cell_type": "code",
   "execution_count": 3,
   "id": "9d874a04",
   "metadata": {},
   "outputs": [
    {
     "name": "stdout",
     "output_type": "stream",
     "text": [
      "\n",
      "InterSystems IRIS version:\n",
      "IRIS for UNIX (Ubuntu Server LTS for x86-64 Containers) 2022.1 (Build 152U) Fri Mar 18 2022 01:14:43 EDT\n"
     ]
    }
   ],
   "source": [
    "print('\\nInterSystems IRIS version:')\n",
    "irisVersion = iris.cls('%SYSTEM.Version').GetVersion()\n",
    "print(irisVersion)\n"
   ]
  },
  {
   "cell_type": "markdown",
   "id": "f61fce8c",
   "metadata": {},
   "source": [
    "# SQL\n",
    "iris.sql.exec('select * from ...')"
   ]
  },
  {
   "cell_type": "code",
   "execution_count": 4,
   "id": "1cc407b4",
   "metadata": {},
   "outputs": [
    {
     "name": "stdout",
     "output_type": "stream",
     "text": [
      "<bound method NDFrame.to_json of       id namespace                routine  linesexecuted  globalreferences  \\\n",
      "0    393                          CONTROL              0                 0   \n",
      "1    434                           WRTDMN            327              2041   \n",
      "2    435                           GARCOL              0                 0   \n",
      "3    436                           JRNDMN           2082               404   \n",
      "..   ...       ...                    ...            ...               ...   \n",
      "33   931      %SYS  %Net.Remote.Service.1          10955                82   \n",
      "34  2512      %SYS      %SYS.WorkQueueMgr            441                36   \n",
      "35  2513      %SYS      %SYS.WorkQueueMgr            518                51   \n",
      "36  2535      %SYS      %SYS.WorkQueueMgr         530889             64787   \n",
      "\n",
      "   state pidexternal username clientipaddress clientnodename  ...  \\\n",
      "0    RUN         393                                          ...   \n",
      "1   RUNW         434                                          ...   \n",
      "2   RUNW         435                                          ...   \n",
      "3   RUNW         436                                          ...   \n",
      "..   ...         ...      ...             ...            ...  ...   \n",
      "33  EVTW         931   Daemon                                 ...   \n",
      "34  EVTW        2512                                      -2  ...   \n",
      "35  EVTW        2513                                      -2  ...   \n",
      "36  EVTW        2535                                      -2  ...   \n",
      "\n",
      "   globalblocks journalentries memorypeak roles loginroles datablockwrites  \\\n",
      "0             0              0        114  %All       %All               0   \n",
      "1             0              0        114  %All       %All               0   \n",
      "2             0              0        114  %All       %All               0   \n",
      "3             0              0        114  %All       %All               0   \n",
      "..          ...            ...        ...   ...        ...             ...   \n",
      "33            2              0        276  %All       %All               1   \n",
      "34            0              0        142  %All       %All               0   \n",
      "35            0              0        154  %All       %All               0   \n",
      "36           68           3574        832  %All       %All              90   \n",
      "\n",
      "    privateglobalreferences  privateglobalupdates cputime  appframeinfo  \n",
      "0                         0                     0     560                \n",
      "1                         0                     0     360                \n",
      "2                         0                     0       0                \n",
      "3                         0                     0     120                \n",
      "..                      ...                   ...     ...           ...  \n",
      "33                        0                     0      70                \n",
      "34                        0                     0       0                \n",
      "35                        0                     0       0                \n",
      "36                     1291                   684     140                \n",
      "\n",
      "[37 rows x 51 columns]>\n",
      "Index(['id', 'namespace', 'routine', 'linesexecuted', 'globalreferences',\n",
      "       'state', 'pidexternal', 'username', 'clientipaddress', 'clientnodename',\n",
      "       'currentdevice', 'userinfo', 'currentlineandroutine', 'currentsrcline',\n",
      "       'lastglobalreference', 'clientexecutablename', 'memoryallocated',\n",
      "       'memoryused', 'opendevices', 'canbeexamined', 'canbesuspended',\n",
      "       'canbeterminated', 'canreceivebroadcast', 'cspsessionid',\n",
      "       'intransaction', 'isghost', 'jobnumber', 'jobtype', 'licenseuserid',\n",
      "       'location', 'osusername', 'pid', 'priority', 'startupclientipaddress',\n",
      "       'startupclientnodename', 'switch10', 'privateglobalblockcount',\n",
      "       'commandsexecuted', 'principaldevice', 'globalupdates',\n",
      "       'globaldiskreads', 'globalblocks', 'journalentries', 'memorypeak',\n",
      "       'roles', 'loginroles', 'datablockwrites', 'privateglobalreferences',\n",
      "       'privateglobalupdates', 'cputime', 'appframeinfo'],\n",
      "      dtype='object')\n",
      "1887\n"
     ]
    }
   ],
   "source": [
    "statement = iris.sql.exec('SELECT * FROM %SYS.ProcessQuery')\n",
    "df = statement.dataframe()\n",
    "jsn = df.to_json\n",
    "print(jsn)\n",
    "#df\n",
    "df.dtypes\n",
    "print(df.columns)\n",
    "print(df.size)\n"
   ]
  },
  {
   "cell_type": "markdown",
   "id": "185cca2c",
   "metadata": {},
   "source": [
    "# SQL"
   ]
  },
  {
   "cell_type": "code",
   "execution_count": 5,
   "id": "eb69fd2c",
   "metadata": {},
   "outputs": [
    {
     "data": {
      "text/html": [
       "<div>\n",
       "<style scoped>\n",
       "    .dataframe tbody tr th:only-of-type {\n",
       "        vertical-align: middle;\n",
       "    }\n",
       "\n",
       "    .dataframe tbody tr th {\n",
       "        vertical-align: top;\n",
       "    }\n",
       "\n",
       "    .dataframe thead th {\n",
       "        text-align: right;\n",
       "    }\n",
       "</style>\n",
       "<table border=\"1\" class=\"dataframe\">\n",
       "  <thead>\n",
       "    <tr style=\"text-align: right;\">\n",
       "      <th></th>\n",
       "      <th>id</th>\n",
       "      <th>survived</th>\n",
       "      <th>pclass</th>\n",
       "      <th>name</th>\n",
       "      <th>sex</th>\n",
       "      <th>age</th>\n",
       "      <th>sibsp</th>\n",
       "      <th>parch</th>\n",
       "      <th>ticket</th>\n",
       "      <th>fare</th>\n",
       "      <th>cabin</th>\n",
       "      <th>embarked</th>\n",
       "    </tr>\n",
       "  </thead>\n",
       "  <tbody>\n",
       "    <tr>\n",
       "      <th>0</th>\n",
       "      <td>1</td>\n",
       "      <td>0</td>\n",
       "      <td>3</td>\n",
       "      <td>Braund, Mr. Owen Harris</td>\n",
       "      <td>male</td>\n",
       "      <td>22</td>\n",
       "      <td>1</td>\n",
       "      <td>0</td>\n",
       "      <td>A/5 21171</td>\n",
       "      <td>7.2500</td>\n",
       "      <td></td>\n",
       "      <td>S</td>\n",
       "    </tr>\n",
       "    <tr>\n",
       "      <th>1</th>\n",
       "      <td>2</td>\n",
       "      <td>1</td>\n",
       "      <td>1</td>\n",
       "      <td>Cumings, Mrs. John Bradley (Florence Briggs Th...</td>\n",
       "      <td>female</td>\n",
       "      <td>38</td>\n",
       "      <td>1</td>\n",
       "      <td>0</td>\n",
       "      <td>PC 17599</td>\n",
       "      <td>71.2833</td>\n",
       "      <td>C85</td>\n",
       "      <td>C</td>\n",
       "    </tr>\n",
       "    <tr>\n",
       "      <th>2</th>\n",
       "      <td>3</td>\n",
       "      <td>1</td>\n",
       "      <td>3</td>\n",
       "      <td>Heikkinen, Miss. Laina</td>\n",
       "      <td>female</td>\n",
       "      <td>26</td>\n",
       "      <td>0</td>\n",
       "      <td>0</td>\n",
       "      <td>STON/O2. 3101282</td>\n",
       "      <td>7.9250</td>\n",
       "      <td></td>\n",
       "      <td>S</td>\n",
       "    </tr>\n",
       "    <tr>\n",
       "      <th>3</th>\n",
       "      <td>4</td>\n",
       "      <td>1</td>\n",
       "      <td>1</td>\n",
       "      <td>Futrelle, Mrs. Jacques Heath (Lily May Peel)</td>\n",
       "      <td>female</td>\n",
       "      <td>35</td>\n",
       "      <td>1</td>\n",
       "      <td>0</td>\n",
       "      <td>113803</td>\n",
       "      <td>53.1000</td>\n",
       "      <td>C123</td>\n",
       "      <td>S</td>\n",
       "    </tr>\n",
       "    <tr>\n",
       "      <th>...</th>\n",
       "      <td>...</td>\n",
       "      <td>...</td>\n",
       "      <td>...</td>\n",
       "      <td>...</td>\n",
       "      <td>...</td>\n",
       "      <td>...</td>\n",
       "      <td>...</td>\n",
       "      <td>...</td>\n",
       "      <td>...</td>\n",
       "      <td>...</td>\n",
       "      <td>...</td>\n",
       "      <td>...</td>\n",
       "    </tr>\n",
       "    <tr>\n",
       "      <th>887</th>\n",
       "      <td>888</td>\n",
       "      <td>1</td>\n",
       "      <td>1</td>\n",
       "      <td>Graham, Miss. Margaret Edith</td>\n",
       "      <td>female</td>\n",
       "      <td>19</td>\n",
       "      <td>0</td>\n",
       "      <td>0</td>\n",
       "      <td>112053</td>\n",
       "      <td>30.0000</td>\n",
       "      <td>B42</td>\n",
       "      <td>S</td>\n",
       "    </tr>\n",
       "    <tr>\n",
       "      <th>888</th>\n",
       "      <td>889</td>\n",
       "      <td>0</td>\n",
       "      <td>3</td>\n",
       "      <td>Johnston, Miss. Catherine Helen \"Carrie\"</td>\n",
       "      <td>female</td>\n",
       "      <td>0</td>\n",
       "      <td>1</td>\n",
       "      <td>2</td>\n",
       "      <td>W./C. 6607</td>\n",
       "      <td>23.4500</td>\n",
       "      <td></td>\n",
       "      <td>S</td>\n",
       "    </tr>\n",
       "    <tr>\n",
       "      <th>889</th>\n",
       "      <td>890</td>\n",
       "      <td>1</td>\n",
       "      <td>1</td>\n",
       "      <td>Behr, Mr. Karl Howell</td>\n",
       "      <td>male</td>\n",
       "      <td>26</td>\n",
       "      <td>0</td>\n",
       "      <td>0</td>\n",
       "      <td>111369</td>\n",
       "      <td>30.0000</td>\n",
       "      <td>C148</td>\n",
       "      <td>C</td>\n",
       "    </tr>\n",
       "    <tr>\n",
       "      <th>890</th>\n",
       "      <td>891</td>\n",
       "      <td>0</td>\n",
       "      <td>3</td>\n",
       "      <td>Dooley, Mr. Patrick</td>\n",
       "      <td>male</td>\n",
       "      <td>32</td>\n",
       "      <td>0</td>\n",
       "      <td>0</td>\n",
       "      <td>370376</td>\n",
       "      <td>7.7500</td>\n",
       "      <td></td>\n",
       "      <td>Q</td>\n",
       "    </tr>\n",
       "  </tbody>\n",
       "</table>\n",
       "<p>891 rows × 12 columns</p>\n",
       "</div>"
      ],
      "text/plain": [
       "      id  survived  pclass                                               name  \\\n",
       "0      1         0       3                            Braund, Mr. Owen Harris   \n",
       "1      2         1       1  Cumings, Mrs. John Bradley (Florence Briggs Th...   \n",
       "2      3         1       3                             Heikkinen, Miss. Laina   \n",
       "3      4         1       1       Futrelle, Mrs. Jacques Heath (Lily May Peel)   \n",
       "..   ...       ...     ...                                                ...   \n",
       "887  888         1       1                       Graham, Miss. Margaret Edith   \n",
       "888  889         0       3           Johnston, Miss. Catherine Helen \"Carrie\"   \n",
       "889  890         1       1                              Behr, Mr. Karl Howell   \n",
       "890  891         0       3                                Dooley, Mr. Patrick   \n",
       "\n",
       "        sex  age  sibsp  parch            ticket     fare cabin embarked  \n",
       "0      male   22      1      0         A/5 21171   7.2500              S  \n",
       "1    female   38      1      0          PC 17599  71.2833   C85        C  \n",
       "2    female   26      0      0  STON/O2. 3101282   7.9250              S  \n",
       "3    female   35      1      0            113803  53.1000  C123        S  \n",
       "..      ...  ...    ...    ...               ...      ...   ...      ...  \n",
       "887  female   19      0      0            112053  30.0000   B42        S  \n",
       "888  female    0      1      2        W./C. 6607  23.4500              S  \n",
       "889    male   26      0      0            111369  30.0000  C148        C  \n",
       "890    male   32      0      0            370376   7.7500              Q  \n",
       "\n",
       "[891 rows x 12 columns]"
      ]
     },
     "execution_count": 5,
     "metadata": {},
     "output_type": "execute_result"
    }
   ],
   "source": [
    "statement = iris.sql.exec('SELECT * FROM Titanic_Table.Passenger')\n",
    "df = statement.dataframe()\n",
    "df"
   ]
  },
  {
   "cell_type": "markdown",
   "id": "a7c8ec16",
   "metadata": {},
   "source": [
    "# IRIS persistent classes\n",
    "% has to be translated to _ in python!"
   ]
  },
  {
   "cell_type": "markdown",
   "id": "10b06ead",
   "metadata": {},
   "source": [
    "```\n",
    "Class Sample.Company Extends (%Persistent, %Populate, %XML.Adaptor)\n",
    "{\n",
    "\n",
    "/// The company's name.\n",
    "Property Name As %String(MAXLEN = 80, POPSPEC = \"Company()\") [ Required ];\n",
    "\n",
    "/// The company's mission statement.\n",
    "Property Mission As %String(MAXLEN = 200, POPSPEC = \"Mission()\");\n",
    "\n",
    "/// The unique Tax ID number for the company.\n",
    "Property TaxID As %String [ Required ];\n",
    "\n",
    "/// The last reported revenue for the company.\n",
    "Property Revenue As %Integer;\n",
    "\n",
    "/// The Employee objects associated with this Company.\n",
    "Relationship Employees As Employee [ Cardinality = many, Inverse = Company ];\n",
    "\n",
    "}\n",
    "```"
   ]
  },
  {
   "cell_type": "code",
   "execution_count": 6,
   "id": "5d22434b",
   "metadata": {},
   "outputs": [
    {
     "name": "stdout",
     "output_type": "stream",
     "text": [
      "1\n"
     ]
    }
   ],
   "source": [
    "myCompany = iris.cls('ObjectScript.Sample.Company')._New()\n",
    "myCompany.Name = 'Acme Widgets Webinar!, Inc.'\n",
    "myCompany.TaxID = '123456789'\n",
    "status = myCompany._Save()\n",
    "print (status)"
   ]
  },
  {
   "cell_type": "code",
   "execution_count": 7,
   "id": "5d5122ac",
   "metadata": {},
   "outputs": [
    {
     "name": "stdout",
     "output_type": "stream",
     "text": [
      "5\n"
     ]
    }
   ],
   "source": [
    "print(myCompany._Id())\n"
   ]
  },
  {
   "cell_type": "code",
   "execution_count": 8,
   "id": "e7938cb3",
   "metadata": {},
   "outputs": [],
   "source": [
    "yourCompany = iris.cls(\"ObjectScript.Sample.Company\")._OpenId(4)"
   ]
  },
  {
   "cell_type": "code",
   "execution_count": 9,
   "id": "d0d11741",
   "metadata": {},
   "outputs": [
    {
     "name": "stdout",
     "output_type": "stream",
     "text": [
      "Acme Widgets Webinar!, Inc.\n"
     ]
    }
   ],
   "source": [
    "print(yourCompany.Name)"
   ]
  },
  {
   "cell_type": "markdown",
   "id": "a7fe3b75",
   "metadata": {},
   "source": [
    "## Add a method to our class:\n",
    "```\n",
    "Method Print() [ Language = python ]\n",
    "{\n",
    "    print ('\\nName: ' + self.Name + ' TaxID: ' + self.TaxID)\n",
    "}\n",
    "```"
   ]
  },
  {
   "cell_type": "code",
   "execution_count": 10,
   "id": "4351a554",
   "metadata": {},
   "outputs": [
    {
     "name": "stdout",
     "output_type": "stream",
     "text": [
      "\n",
      "Name: Acme Widgets Webinar!, Inc. TaxID: 123456789\n"
     ]
    }
   ],
   "source": [
    "yourCompany.Print()"
   ]
  },
  {
   "cell_type": "code",
   "execution_count": 12,
   "id": "cc9abaf9",
   "metadata": {},
   "outputs": [],
   "source": []
  },
  {
   "cell_type": "code",
   "execution_count": null,
   "id": "597f32f4",
   "metadata": {},
   "outputs": [],
   "source": []
  },
  {
   "cell_type": "markdown",
   "id": "684eb382",
   "metadata": {},
   "source": [
    "# Work with Globals"
   ]
  },
  {
   "cell_type": "code",
   "execution_count": 33,
   "id": "80e76b1e",
   "metadata": {},
   "outputs": [],
   "source": [
    "myGref = iris.gref('^Workdays')"
   ]
  },
  {
   "cell_type": "code",
   "execution_count": 34,
   "id": "5edb11f0",
   "metadata": {},
   "outputs": [],
   "source": [
    "myGref[None] = 5"
   ]
  },
  {
   "cell_type": "code",
   "execution_count": 35,
   "id": "b5bfa0a9",
   "metadata": {},
   "outputs": [],
   "source": [
    "myGref[1] = 'Monday'"
   ]
  },
  {
   "cell_type": "code",
   "execution_count": 36,
   "id": "13b5c9c9",
   "metadata": {},
   "outputs": [],
   "source": [
    "myGref[2] = 'Tuesday'"
   ]
  },
  {
   "cell_type": "code",
   "execution_count": 37,
   "id": "f81006cc",
   "metadata": {},
   "outputs": [],
   "source": [
    "myGref[3] = 'Wednesday'"
   ]
  },
  {
   "cell_type": "code",
   "execution_count": 40,
   "id": "16877dc9",
   "metadata": {},
   "outputs": [],
   "source": [
    "myGref[4] = 'Thursday'"
   ]
  },
  {
   "cell_type": "code",
   "execution_count": 41,
   "id": "384672a9",
   "metadata": {},
   "outputs": [],
   "source": [
    "myGref[5] = 'Friday'"
   ]
  },
  {
   "cell_type": "code",
   "execution_count": 13,
   "id": "f2b0b395",
   "metadata": {},
   "outputs": [
    {
     "ename": "NameError",
     "evalue": "name 'myGref' is not defined",
     "output_type": "error",
     "traceback": [
      "\u001b[0;31m---------------------------------------------------------------------------\u001b[0m",
      "\u001b[0;31mNameError\u001b[0m                                 Traceback (most recent call last)",
      "Input \u001b[0;32mIn [13]\u001b[0m, in \u001b[0;36m<cell line: 1>\u001b[0;34m()\u001b[0m\n\u001b[0;32m----> 1\u001b[0m \u001b[38;5;28mprint\u001b[39m(\u001b[43mmyGref\u001b[49m[\u001b[38;5;241m3\u001b[39m])\n",
      "\u001b[0;31mNameError\u001b[0m: name 'myGref' is not defined"
     ]
    }
   ],
   "source": [
    "print(myGref[3])"
   ]
  },
  {
   "cell_type": "code",
   "execution_count": 14,
   "id": "2323164a",
   "metadata": {},
   "outputs": [],
   "source": [
    "# Store procedures in Python"
   ]
  },
  {
   "cell_type": "markdown",
   "id": "2811c22e",
   "metadata": {},
   "source": [
    "```SQL\n",
    "CREATE FUNCTION tzconvert(dt DATETIME, tzfrom VARCHAR, tzto VARCHAR)\n",
    "    RETURNS DATETIME\n",
    "    LANGUAGE PYTHON\n",
    "{\n",
    "    from datetime import datetime\n",
    "    from dateutil import parser, tz\n",
    "    d = parser.parse(dt)\n",
    "    if (tzfrom is not None):\n",
    "        tzf = tz.gettz(tzfrom)\n",
    "        d = d.replace(tzinfo = tzf)\n",
    "    return d.astimezone(tz.gettz(tzto)).strftime(\"%Y-%m-%d %H:%M:%S\")\n",
    "}\n",
    "```"
   ]
  },
  {
   "cell_type": "code",
   "execution_count": 21,
   "id": "892bda03",
   "metadata": {},
   "outputs": [
    {
     "name": "stdout",
     "output_type": "stream",
     "text": [
      "<iris.%SYS.Python.SQLResultSet object at 0x7f90b1ae8390>\n",
      "<bound method NDFrame.to_json of          expression_1\n",
      "0 2022-03-28 17:28:36>\n"
     ]
    }
   ],
   "source": [
    "convert = iris.sql.exec(\"SELECT tzconvert(now(), 'US/Eastern', 'UTC')\")\n",
    "print (convert)\n",
    "df = convert.dataframe()\n",
    "jsn = df.to_json\n",
    "print(jsn)\n"
   ]
  }
 ],
 "metadata": {
  "kernelspec": {
   "display_name": "IRIS Python",
   "language": "python",
   "name": "irispython"
  },
  "language_info": {
   "codemirror_mode": {
    "name": "ipython",
    "version": 3
   },
   "file_extension": ".py",
   "mimetype": "text/x-python",
   "name": "python",
   "nbconvert_exporter": "python",
   "pygments_lexer": "ipython3",
   "version": "3.8.10"
  }
 },
 "nbformat": 4,
 "nbformat_minor": 5
}

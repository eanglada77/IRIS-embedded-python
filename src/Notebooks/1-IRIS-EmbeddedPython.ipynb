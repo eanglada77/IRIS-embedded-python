{
 "cells": [
  {
   "cell_type": "markdown",
   "id": "eb1e8ad9",
   "metadata": {},
   "source": [
    "# IRIS: Python embebido"
   ]
  },
  {
   "cell_type": "code",
   "execution_count": 1,
   "id": "746a0d62",
   "metadata": {},
   "outputs": [],
   "source": [
    "import iris\n",
    "\n",
    "#Pandas dataframes\n",
    "import pandas as pd\n",
    "pd.options.display.max_rows = 9\n"
   ]
  },
  {
   "cell_type": "code",
   "execution_count": 2,
   "id": "9d874a04",
   "metadata": {},
   "outputs": [
    {
     "name": "stdout",
     "output_type": "stream",
     "text": [
      "\n",
      "InterSystems IRIS version:\n",
      "IRIS for UNIX (Ubuntu Server LTS for x86-64 Containers) 2022.1 (Build 152U) Fri Mar 18 2022 01:14:43 EDT\n"
     ]
    }
   ],
   "source": [
    "print('\\nInterSystems IRIS version:')\n",
    "irisVersion = iris.cls('%SYSTEM.Version').GetVersion()\n",
    "print(irisVersion)\n"
   ]
  },
  {
   "cell_type": "markdown",
   "id": "2b340f5f",
   "metadata": {},
   "source": [
    "# SQL\n",
    "Las consultas SQL se hacen así:\n",
    "\n",
    "iris.sql.exec('select * from ...')"
   ]
  },
  {
   "cell_type": "code",
   "execution_count": 3,
   "id": "1cc407b4",
   "metadata": {},
   "outputs": [
    {
     "name": "stdout",
     "output_type": "stream",
     "text": [
      "<bound method NDFrame.to_json of     id namespace  routine  linesexecuted  globalreferences state pidexternal  \\\n",
      "0  395            CONTROL              0                 0   RUN         395   \n",
      "1  436             WRTDMN             27               333  RUNW         436   \n",
      "2  437             GARCOL              0                 0  RUNW         437   \n",
      "3  438             JRNDMN            159                 9  RUNW         438   \n",
      "4  446             EXPDMN              0                 0  RUNW         446   \n",
      "\n",
      "  username clientipaddress clientnodename  ... globalblocks journalentries  \\\n",
      "0                                          ...            0              0   \n",
      "1                                          ...            0              0   \n",
      "2                                          ...            0              0   \n",
      "3                                          ...            0              0   \n",
      "4                                          ...            0              0   \n",
      "\n",
      "  memorypeak roles loginroles datablockwrites  privateglobalreferences  \\\n",
      "0        114  %All       %All               0                        0   \n",
      "1        114  %All       %All               0                        0   \n",
      "2        114  %All       %All               0                        0   \n",
      "3        114  %All       %All               0                        0   \n",
      "4        114  %All       %All               0                        0   \n",
      "\n",
      "   privateglobalupdates cputime  appframeinfo  \n",
      "0                     0     110                \n",
      "1                     0      40                \n",
      "2                     0       0                \n",
      "3                     0      10                \n",
      "4                     0       0                \n",
      "\n",
      "[5 rows x 51 columns]>\n",
      "Index(['id', 'namespace', 'routine', 'linesexecuted', 'globalreferences',\n",
      "       'state', 'pidexternal', 'username', 'clientipaddress', 'clientnodename',\n",
      "       'currentdevice', 'userinfo', 'currentlineandroutine', 'currentsrcline',\n",
      "       'lastglobalreference', 'clientexecutablename', 'memoryallocated',\n",
      "       'memoryused', 'opendevices', 'canbeexamined', 'canbesuspended',\n",
      "       'canbeterminated', 'canreceivebroadcast', 'cspsessionid',\n",
      "       'intransaction', 'isghost', 'jobnumber', 'jobtype', 'licenseuserid',\n",
      "       'location', 'osusername', 'pid', 'priority', 'startupclientipaddress',\n",
      "       'startupclientnodename', 'switch10', 'privateglobalblockcount',\n",
      "       'commandsexecuted', 'principaldevice', 'globalupdates',\n",
      "       'globaldiskreads', 'globalblocks', 'journalentries', 'memorypeak',\n",
      "       'roles', 'loginroles', 'datablockwrites', 'privateglobalreferences',\n",
      "       'privateglobalupdates', 'cputime', 'appframeinfo'],\n",
      "      dtype='object')\n",
      "255\n"
     ]
    }
   ],
   "source": [
    "rs = iris.sql.exec('SELECT TOP 5 * FROM %SYS.ProcessQuery')\n",
    "df = rs.dataframe()\n",
    "\n",
    "jsn = df.to_json\n",
    "print(jsn)\n",
    "#df\n",
    "df.dtypes\n",
    "print(df.columns)\n",
    "print(df.size)\n"
   ]
  },
  {
   "cell_type": "markdown",
   "id": "29dfb44d",
   "metadata": {},
   "source": [
    "## Data frames\n",
    "Es una estructura de datos que puede almacenar el resultado de una consulta"
   ]
  },
  {
   "cell_type": "code",
   "execution_count": 4,
   "id": "eb69fd2c",
   "metadata": {},
   "outputs": [
    {
     "data": {
      "text/html": [
       "<div>\n",
       "<style scoped>\n",
       "    .dataframe tbody tr th:only-of-type {\n",
       "        vertical-align: middle;\n",
       "    }\n",
       "\n",
       "    .dataframe tbody tr th {\n",
       "        vertical-align: top;\n",
       "    }\n",
       "\n",
       "    .dataframe thead th {\n",
       "        text-align: right;\n",
       "    }\n",
       "</style>\n",
       "<table border=\"1\" class=\"dataframe\">\n",
       "  <thead>\n",
       "    <tr style=\"text-align: right;\">\n",
       "      <th></th>\n",
       "      <th>id</th>\n",
       "      <th>survived</th>\n",
       "      <th>pclass</th>\n",
       "      <th>name</th>\n",
       "      <th>sex</th>\n",
       "      <th>age</th>\n",
       "      <th>sibsp</th>\n",
       "      <th>parch</th>\n",
       "      <th>ticket</th>\n",
       "      <th>fare</th>\n",
       "      <th>cabin</th>\n",
       "      <th>embarked</th>\n",
       "    </tr>\n",
       "  </thead>\n",
       "  <tbody>\n",
       "    <tr>\n",
       "      <th>0</th>\n",
       "      <td>1</td>\n",
       "      <td>0</td>\n",
       "      <td>3</td>\n",
       "      <td>Braund, Mr. Owen Harris</td>\n",
       "      <td>male</td>\n",
       "      <td>22</td>\n",
       "      <td>1</td>\n",
       "      <td>0</td>\n",
       "      <td>A/5 21171</td>\n",
       "      <td>7.2500</td>\n",
       "      <td></td>\n",
       "      <td>S</td>\n",
       "    </tr>\n",
       "    <tr>\n",
       "      <th>1</th>\n",
       "      <td>2</td>\n",
       "      <td>1</td>\n",
       "      <td>1</td>\n",
       "      <td>Cumings, Mrs. John Bradley (Florence Briggs Th...</td>\n",
       "      <td>female</td>\n",
       "      <td>38</td>\n",
       "      <td>1</td>\n",
       "      <td>0</td>\n",
       "      <td>PC 17599</td>\n",
       "      <td>71.2833</td>\n",
       "      <td>C85</td>\n",
       "      <td>C</td>\n",
       "    </tr>\n",
       "    <tr>\n",
       "      <th>2</th>\n",
       "      <td>3</td>\n",
       "      <td>1</td>\n",
       "      <td>3</td>\n",
       "      <td>Heikkinen, Miss. Laina</td>\n",
       "      <td>female</td>\n",
       "      <td>26</td>\n",
       "      <td>0</td>\n",
       "      <td>0</td>\n",
       "      <td>STON/O2. 3101282</td>\n",
       "      <td>7.9250</td>\n",
       "      <td></td>\n",
       "      <td>S</td>\n",
       "    </tr>\n",
       "    <tr>\n",
       "      <th>3</th>\n",
       "      <td>4</td>\n",
       "      <td>1</td>\n",
       "      <td>1</td>\n",
       "      <td>Futrelle, Mrs. Jacques Heath (Lily May Peel)</td>\n",
       "      <td>female</td>\n",
       "      <td>35</td>\n",
       "      <td>1</td>\n",
       "      <td>0</td>\n",
       "      <td>113803</td>\n",
       "      <td>53.1000</td>\n",
       "      <td>C123</td>\n",
       "      <td>S</td>\n",
       "    </tr>\n",
       "    <tr>\n",
       "      <th>...</th>\n",
       "      <td>...</td>\n",
       "      <td>...</td>\n",
       "      <td>...</td>\n",
       "      <td>...</td>\n",
       "      <td>...</td>\n",
       "      <td>...</td>\n",
       "      <td>...</td>\n",
       "      <td>...</td>\n",
       "      <td>...</td>\n",
       "      <td>...</td>\n",
       "      <td>...</td>\n",
       "      <td>...</td>\n",
       "    </tr>\n",
       "    <tr>\n",
       "      <th>887</th>\n",
       "      <td>888</td>\n",
       "      <td>1</td>\n",
       "      <td>1</td>\n",
       "      <td>Graham, Miss. Margaret Edith</td>\n",
       "      <td>female</td>\n",
       "      <td>19</td>\n",
       "      <td>0</td>\n",
       "      <td>0</td>\n",
       "      <td>112053</td>\n",
       "      <td>30.0000</td>\n",
       "      <td>B42</td>\n",
       "      <td>S</td>\n",
       "    </tr>\n",
       "    <tr>\n",
       "      <th>888</th>\n",
       "      <td>889</td>\n",
       "      <td>0</td>\n",
       "      <td>3</td>\n",
       "      <td>Johnston, Miss. Catherine Helen \"Carrie\"</td>\n",
       "      <td>female</td>\n",
       "      <td>0</td>\n",
       "      <td>1</td>\n",
       "      <td>2</td>\n",
       "      <td>W./C. 6607</td>\n",
       "      <td>23.4500</td>\n",
       "      <td></td>\n",
       "      <td>S</td>\n",
       "    </tr>\n",
       "    <tr>\n",
       "      <th>889</th>\n",
       "      <td>890</td>\n",
       "      <td>1</td>\n",
       "      <td>1</td>\n",
       "      <td>Behr, Mr. Karl Howell</td>\n",
       "      <td>male</td>\n",
       "      <td>26</td>\n",
       "      <td>0</td>\n",
       "      <td>0</td>\n",
       "      <td>111369</td>\n",
       "      <td>30.0000</td>\n",
       "      <td>C148</td>\n",
       "      <td>C</td>\n",
       "    </tr>\n",
       "    <tr>\n",
       "      <th>890</th>\n",
       "      <td>891</td>\n",
       "      <td>0</td>\n",
       "      <td>3</td>\n",
       "      <td>Dooley, Mr. Patrick</td>\n",
       "      <td>male</td>\n",
       "      <td>32</td>\n",
       "      <td>0</td>\n",
       "      <td>0</td>\n",
       "      <td>370376</td>\n",
       "      <td>7.7500</td>\n",
       "      <td></td>\n",
       "      <td>Q</td>\n",
       "    </tr>\n",
       "  </tbody>\n",
       "</table>\n",
       "<p>891 rows × 12 columns</p>\n",
       "</div>"
      ],
      "text/plain": [
       "      id  survived  pclass                                               name  \\\n",
       "0      1         0       3                            Braund, Mr. Owen Harris   \n",
       "1      2         1       1  Cumings, Mrs. John Bradley (Florence Briggs Th...   \n",
       "2      3         1       3                             Heikkinen, Miss. Laina   \n",
       "3      4         1       1       Futrelle, Mrs. Jacques Heath (Lily May Peel)   \n",
       "..   ...       ...     ...                                                ...   \n",
       "887  888         1       1                       Graham, Miss. Margaret Edith   \n",
       "888  889         0       3           Johnston, Miss. Catherine Helen \"Carrie\"   \n",
       "889  890         1       1                              Behr, Mr. Karl Howell   \n",
       "890  891         0       3                                Dooley, Mr. Patrick   \n",
       "\n",
       "        sex  age  sibsp  parch            ticket     fare cabin embarked  \n",
       "0      male   22      1      0         A/5 21171   7.2500              S  \n",
       "1    female   38      1      0          PC 17599  71.2833   C85        C  \n",
       "2    female   26      0      0  STON/O2. 3101282   7.9250              S  \n",
       "3    female   35      1      0            113803  53.1000  C123        S  \n",
       "..      ...  ...    ...    ...               ...      ...   ...      ...  \n",
       "887  female   19      0      0            112053  30.0000   B42        S  \n",
       "888  female    0      1      2        W./C. 6607  23.4500              S  \n",
       "889    male   26      0      0            111369  30.0000  C148        C  \n",
       "890    male   32      0      0            370376   7.7500              Q  \n",
       "\n",
       "[891 rows x 12 columns]"
      ]
     },
     "execution_count": 4,
     "metadata": {},
     "output_type": "execute_result"
    }
   ],
   "source": [
    "statement = iris.sql.exec('SELECT * FROM Titanic_Table.Passenger')\n",
    "df = statement.dataframe()\n",
    "df"
   ]
  },
  {
   "cell_type": "markdown",
   "id": "43c536b5",
   "metadata": {},
   "source": [
    "# Llamando a las clases de IRIS\n",
    "iris.cls('clase').metodo()"
   ]
  },
  {
   "cell_type": "code",
   "execution_count": 5,
   "id": "efe8dbe8",
   "metadata": {},
   "outputs": [
    {
     "name": "stdout",
     "output_type": "stream",
     "text": [
      "/usr/irissys/mgr/\n"
     ]
    }
   ],
   "source": [
    "lf = iris.cls('%Library.File')\n",
    "print(lf.ManagerDirectory())"
   ]
  },
  {
   "cell_type": "markdown",
   "id": "e2e7af24",
   "metadata": {},
   "source": [
    "# Clases persistentes\n",
    "Recordad que los % tienen que ser substituidos por _ "
   ]
  },
  {
   "cell_type": "markdown",
   "id": "f598bf45",
   "metadata": {},
   "source": [
    "```\n",
    "Class Sample.Company Extends (%Persistent, %Populate, %XML.Adaptor)\n",
    "{\n",
    "\n",
    "/// The company's name.\n",
    "Property Name As %String(MAXLEN = 80, POPSPEC = \"Company()\") [ Required ];\n",
    "\n",
    "/// The company's mission statement.\n",
    "Property Mission As %String(MAXLEN = 200, POPSPEC = \"Mission()\");\n",
    "\n",
    "/// The unique Tax ID number for the company.\n",
    "Property TaxID As %String [ Required ];\n",
    "\n",
    "/// The last reported revenue for the company.\n",
    "Property Revenue As %Integer;\n",
    "\n",
    "}\n",
    "```"
   ]
  },
  {
   "cell_type": "code",
   "execution_count": 6,
   "id": "4fbeb2f6",
   "metadata": {},
   "outputs": [
    {
     "name": "stdout",
     "output_type": "stream",
     "text": [
      "1\n"
     ]
    }
   ],
   "source": [
    "myCompany = iris.cls('ObjectScript.Sample.Company')._New()\n",
    "myCompany.Name = 'Acme Widgets Webinar!, Inc.'\n",
    "myCompany.TaxID = '123456789'\n",
    "status = myCompany._Save()\n",
    "print (status)"
   ]
  },
  {
   "cell_type": "code",
   "execution_count": 7,
   "id": "4cac5d08",
   "metadata": {},
   "outputs": [
    {
     "name": "stdout",
     "output_type": "stream",
     "text": [
      "8\n"
     ]
    }
   ],
   "source": [
    "print(myCompany._Id())\n"
   ]
  },
  {
   "cell_type": "code",
   "execution_count": 8,
   "id": "9c6d79b4",
   "metadata": {},
   "outputs": [],
   "source": [
    "yourCompany = iris.cls(\"ObjectScript.Sample.Company\")._OpenId(1)"
   ]
  },
  {
   "cell_type": "code",
   "execution_count": 9,
   "id": "e0d8638c",
   "metadata": {},
   "outputs": [
    {
     "name": "stdout",
     "output_type": "stream",
     "text": [
      "Acme Widgets Webinar!, Inc.\n"
     ]
    }
   ],
   "source": [
    "print(yourCompany.Name)\n"
   ]
  },
  {
   "cell_type": "markdown",
   "id": "7d30724f",
   "metadata": {},
   "source": [
    "## Añadimos un método escrito en Python:\n",
    "```\n",
    "Method Print() [ Language = python ]\n",
    "{\n",
    "    print ('\\nName: ' + self.Name + ' TaxID: ' + self.TaxID)\n",
    "}\n",
    "```"
   ]
  },
  {
   "cell_type": "code",
   "execution_count": 10,
   "id": "4db07496",
   "metadata": {},
   "outputs": [
    {
     "name": "stdout",
     "output_type": "stream",
     "text": [
      "\n",
      "Name: Acme Widgets Webinar!, Inc. TaxID: 123456789\n"
     ]
    }
   ],
   "source": [
    "yourCompany.Print()"
   ]
  },
  {
   "cell_type": "markdown",
   "id": "21eb4d7c",
   "metadata": {},
   "source": [
    "# Manejando Globals"
   ]
  },
  {
   "cell_type": "code",
   "execution_count": 11,
   "id": "015af5d2",
   "metadata": {},
   "outputs": [],
   "source": [
    "myGref = iris.gref('^Workdays')"
   ]
  },
  {
   "cell_type": "code",
   "execution_count": 12,
   "id": "74da2a1c",
   "metadata": {},
   "outputs": [],
   "source": [
    "myGref[None] = 5"
   ]
  },
  {
   "cell_type": "code",
   "execution_count": 13,
   "id": "7abc3457",
   "metadata": {},
   "outputs": [],
   "source": [
    "myGref[1] = 'Monday'"
   ]
  },
  {
   "cell_type": "code",
   "execution_count": 14,
   "id": "3c7dd44e",
   "metadata": {},
   "outputs": [],
   "source": [
    "myGref[2] = 'Tuesday'"
   ]
  },
  {
   "cell_type": "code",
   "execution_count": 15,
   "id": "418ba2a0",
   "metadata": {},
   "outputs": [],
   "source": [
    "myGref[3] = 'Wednesday'"
   ]
  },
  {
   "cell_type": "code",
   "execution_count": 16,
   "id": "39435f61",
   "metadata": {},
   "outputs": [],
   "source": [
    "myGref[4] = 'Thursday'"
   ]
  },
  {
   "cell_type": "code",
   "execution_count": 17,
   "id": "aed8ac86",
   "metadata": {},
   "outputs": [],
   "source": [
    "myGref[5] = 'Friday'"
   ]
  },
  {
   "cell_type": "code",
   "execution_count": 18,
   "id": "16ed0296",
   "metadata": {},
   "outputs": [
    {
     "name": "stdout",
     "output_type": "stream",
     "text": [
      "Wednesday\n"
     ]
    }
   ],
   "source": [
    "print(myGref[3])"
   ]
  },
  {
   "cell_type": "markdown",
   "id": "5a1151c1",
   "metadata": {},
   "source": [
    "# Procedimientos almacenados escritos en Python"
   ]
  },
  {
   "cell_type": "markdown",
   "id": "46c4211b",
   "metadata": {},
   "source": [
    "```SQL\n",
    "CREATE FUNCTION tzconvert(dt DATETIME, tzfrom VARCHAR, tzto VARCHAR)\n",
    "    RETURNS DATETIME\n",
    "    LANGUAGE PYTHON\n",
    "{\n",
    "    from datetime import datetime\n",
    "    from dateutil import parser, tz\n",
    "    d = parser.parse(dt)\n",
    "    if (tzfrom is not None):\n",
    "        tzf = tz.gettz(tzfrom)\n",
    "        d = d.replace(tzinfo = tzf)\n",
    "    return d.astimezone(tz.gettz(tzto)).strftime(\"%Y-%m-%d %H:%M:%S\")\n",
    "}\n",
    "```"
   ]
  },
  {
   "cell_type": "code",
   "execution_count": 19,
   "id": "467717ac",
   "metadata": {},
   "outputs": [
    {
     "name": "stdout",
     "output_type": "stream",
     "text": [
      "['2022-03-29 18:21:10']\n"
     ]
    }
   ],
   "source": [
    "convert = iris.sql.exec(\"SELECT tzconvert(now(), 'US/Eastern', 'UTC')\")\n",
    "for row in convert:\n",
    "    print (row)\n"
   ]
  },
  {
   "cell_type": "markdown",
   "id": "2d013b45",
   "metadata": {},
   "source": [
    "## Ejemplo: códigos Qr"
   ]
  },
  {
   "cell_type": "code",
   "execution_count": 20,
   "id": "3312e4a3",
   "metadata": {},
   "outputs": [],
   "source": [
    "import qrcode\n",
    "import matplotlib.pyplot as plt"
   ]
  },
  {
   "cell_type": "code",
   "execution_count": 22,
   "id": "882a86b8",
   "metadata": {},
   "outputs": [
    {
     "data": {
      "text/plain": [
       "<matplotlib.image.AxesImage at 0x7f9eac8354f0>"
      ]
     },
     "execution_count": 22,
     "metadata": {},
     "output_type": "execute_result"
    },
    {
     "data": {
      "image/png": "[encoded data removed]",
      "text/plain": [
       "<Figure size 432x288 with 1 Axes>"
      ]
     },
     "metadata": {
      "needs_background": "light"
     },
     "output_type": "display_data"
    }
   ],
   "source": [
    "data = \"Generador de códigos Qr para IRIS!\"\n",
    "filename = \"IRISQRCode.png\"\n",
    "\n",
    "image = qrcode.make(data)\n",
    "\n",
    "image.save(filename)\n",
    "plt.imshow(image,cmap='gray')"
   ]
  },
  {
   "cell_type": "code",
   "execution_count": null,
   "id": "6de876f0",
   "metadata": {},
   "outputs": [],
   "source": []
  }
 ],
 "metadata": {
  "kernelspec": {
   "display_name": "IRIS Python",
   "language": "python",
   "name": "irispython"
  },
  "language_info": {
   "codemirror_mode": {
    "name": "ipython",
    "version": 3
   },
   "file_extension": ".py",
   "mimetype": "text/x-python",
   "name": "python",
   "nbconvert_exporter": "python",
   "pygments_lexer": "ipython3",
   "version": "3.8.10"
  }
 },
 "nbformat": 4,
 "nbformat_minor": 5
}

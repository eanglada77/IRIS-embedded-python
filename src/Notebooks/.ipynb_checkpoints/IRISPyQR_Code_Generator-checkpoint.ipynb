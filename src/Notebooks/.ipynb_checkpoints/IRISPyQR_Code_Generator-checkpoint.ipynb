{
 "cells": [
  {
   "cell_type": "markdown",
   "id": "6811f36f",
   "metadata": {},
   "source": [
    "# QR Code generation by using Python qrcode liabrary\n",
    "\n"
   ]
  },
  {
   "cell_type": "code",
   "execution_count": null,
   "id": "6037984c",
   "metadata": {},
   "outputs": [],
   "source": [
    "import qrcode\n",
    "import matplotlib.pyplot as plt"
   ]
  },
  {
   "cell_type": "code",
   "execution_count": null,
   "id": "5cc2b27e",
   "metadata": {},
   "outputs": [],
   "source": [
    "data = \"Intersystems Python QR CODE generator\"\n",
    "filename = \"IRISQRCode.png\"\n",
    "\n",
    "image = qrcode.make(data)\n",
    "\n",
    "image.save(filename)\n",
    "plt.imshow(image,cmap='gray')"
   ]
  }
 ],
 "metadata": {
  "kernelspec": {
   "display_name": "IRIS Python",
   "language": "python",
   "name": "irispython"
  },
  "language_info": {
   "codemirror_mode": {
    "name": "ipython",
    "version": 3
   },
   "file_extension": ".py",
   "mimetype": "text/x-python",
   "name": "python",
   "nbconvert_exporter": "python",
   "pygments_lexer": "ipython3",
   "version": "3.8.10"
  }
 },
 "nbformat": 4,
 "nbformat_minor": 5
}

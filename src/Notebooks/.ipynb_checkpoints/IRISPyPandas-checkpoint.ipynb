{
 "cells": [
  {
   "cell_type": "markdown",
   "metadata": {},
   "source": [
    "## Gráficos interactivos: bokeh\n",
    "\n"
   ]
  },
  {
   "cell_type": "code",
   "execution_count": null,
   "metadata": {},
   "outputs": [],
   "source": [
    "from bokeh.io import output_notebook, show\n",
    "from bokeh.plotting import figure\n",
    "output_notebook()\n",
    "import numpy as np\n",
    "import matplotlib.pyplot as plt"
   ]
  },
  {
   "cell_type": "code",
   "execution_count": null,
   "metadata": {},
   "outputs": [],
   "source": [
    "#Generamos los datos\n",
    "sample1 = np.random.multivariate_normal([0,0], [[1,0],[0,1]], 5000)\n",
    "sample2 = np.random.multivariate_normal([1,1], [[0.05,0],[0,0.05]], 5000)\n",
    "sample = np.concatenate([sample1, sample2])\n"
   ]
  },
  {
   "cell_type": "code",
   "execution_count": null,
   "metadata": {},
   "outputs": [],
   "source": [
    "# Graficos tradicionales: matplotlib\n",
    "plt.scatter(sample[:,0],sample[:,1])"
   ]
  },
  {
   "cell_type": "code",
   "execution_count": null,
   "metadata": {},
   "outputs": [],
   "source": [
    "#Gráficos interactivos: bokeh\n",
    "#herramientas que aparecen en el menú de la derecha\n",
    "tools = \"hover, box_zoom, undo, crosshair\"\n",
    "p = figure(tools=tools)\n",
    "p.scatter(sample[:,0], sample[:,1], alpha=0.5)\n",
    "show(p)"
   ]
  },
  {
   "cell_type": "code",
   "execution_count": null,
   "metadata": {},
   "outputs": [],
   "source": []
  }
 ],
 "metadata": {
  "kernelspec": {
   "display_name": "IRIS Python",
   "language": "python",
   "name": "irispython"
  },
  "language_info": {
   "codemirror_mode": {
    "name": "ipython",
    "version": 3
   },
   "file_extension": ".py",
   "mimetype": "text/x-python",
   "name": "python",
   "nbconvert_exporter": "python",
   "pygments_lexer": "ipython3",
   "version": "3.8.10"
  }
 },
 "nbformat": 4,
 "nbformat_minor": 4
}

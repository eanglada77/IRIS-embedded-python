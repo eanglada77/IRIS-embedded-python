{
 "cells": [
  {
   "cell_type": "markdown",
   "id": "2aa88393",
   "metadata": {},
   "source": [
    "# Using ObjectScript in a notebook"
   ]
  },
  {
   "cell_type": "code",
   "execution_count": 1,
   "id": "8e6a14d2",
   "metadata": {},
   "outputs": [],
   "source": [
    "Set hello = \"helloworld2\"\n",
    "zw hello"
   ]
  },
  {
   "cell_type": "markdown",
   "id": "3d0e0c8b",
   "metadata": {},
   "source": [
    "# Using embedded Python from ObjectSCript"
   ]
  },
  {
   "cell_type": "code",
   "execution_count": 2,
   "id": "34244f15",
   "metadata": {},
   "outputs": [
    {
     "name": "stdout",
     "output_type": "stream",
     "text": [
      "datetime=3@%SYS.Python  ; <module 'datetime' from '/usr/lib/python3.8/datetime.py'>  ; <OREF>\r\n",
      "\"2022-03-28\"\r\n"
     ]
    }
   ],
   "source": [
    "set datetime = ##class(%SYS.Python).Import(\"datetime\")\n",
    "zw datetime\n",
    "zw datetime.date.today().isoformat()"
   ]
  },
  {
   "cell_type": "code",
   "execution_count": 3,
   "id": "4d2c3886",
   "metadata": {},
   "outputs": [
    {
     "name": "stdout",
     "output_type": "stream",
     "text": [
      "hello world\n"
     ]
    }
   ],
   "source": [
    "set rslt = ##class(%SYS.Python).Run(\"print('hello world')\")"
   ]
  },
  {
   "cell_type": "code",
   "execution_count": 4,
   "id": "8bffbab2",
   "metadata": {},
   "outputs": [
    {
     "name": "stdout",
     "output_type": "stream",
     "text": []
    }
   ],
   "source": [
    "zn \"USER\""
   ]
  },
  {
   "cell_type": "markdown",
   "id": "a6b2fc2b",
   "metadata": {},
   "source": [
    "## Use reportlab Python library to generate a PDF from IRIS"
   ]
  },
  {
   "cell_type": "code",
   "execution_count": 5,
   "id": "c822cb81",
   "metadata": {},
   "outputs": [
    {
     "name": "stdout",
     "output_type": "stream",
     "text": []
    }
   ],
   "source": [
    "do ##class(Demo.reportlab).CreateSamplePDF(\"/opt/irisapp/misc/sample.pdf\")"
   ]
  },
  {
   "cell_type": "markdown",
   "id": "9f41af8b",
   "metadata": {},
   "source": [
    "## Example of a Python library: geopy"
   ]
  },
  {
   "cell_type": "code",
   "execution_count": 6,
   "id": "e77d9aa5",
   "metadata": {},
   "outputs": [
    {
     "name": "stdout",
     "output_type": "stream",
     "text": []
    }
   ],
   "source": [
    "set geopy = ##class(%SYS.Python).Import(\"geopy\")"
   ]
  },
  {
   "cell_type": "code",
   "execution_count": 7,
   "id": "40b04939",
   "metadata": {},
   "outputs": [
    {
     "name": "stdout",
     "output_type": "stream",
     "text": []
    }
   ],
   "source": [
    "set args = { \"user_agent\": \"Embedded Python\" }"
   ]
  },
  {
   "cell_type": "code",
   "execution_count": 8,
   "id": "025614de",
   "metadata": {},
   "outputs": [
    {
     "name": "stdout",
     "output_type": "stream",
     "text": []
    }
   ],
   "source": [
    "set geolocator = geopy.Nominatim(args...)"
   ]
  },
  {
   "cell_type": "code",
   "execution_count": 9,
   "id": "c07e690e",
   "metadata": {},
   "outputs": [
    {
     "name": "stdout",
     "output_type": "stream",
     "text": []
    }
   ],
   "source": [
    "set flatiron = geolocator.geocode(\"175 5th Avenue NYC\")"
   ]
  },
  {
   "cell_type": "code",
   "execution_count": 10,
   "id": "cd8c79d7",
   "metadata": {},
   "outputs": [
    {
     "name": "stdout",
     "output_type": "stream",
     "text": [
      "Flatiron Building, 175, 5th Avenue, Flatiron District, Manhattan Community Board 5, Manhattan, New York, 10010, United States"
     ]
    }
   ],
   "source": [
    "write flatiron.address"
   ]
  },
  {
   "cell_type": "code",
   "execution_count": 11,
   "id": "9d6957b0",
   "metadata": {},
   "outputs": [
    {
     "name": "stdout",
     "output_type": "stream",
     "text": []
    }
   ],
   "source": [
    "set cityhall = geolocator.reverse(\"42.3604099,-71.060181\")"
   ]
  },
  {
   "cell_type": "code",
   "execution_count": 12,
   "id": "802a780a",
   "metadata": {},
   "outputs": [
    {
     "name": "stdout",
     "output_type": "stream",
     "text": [
      "Government Center, Cambridge Street, Downtown Crossing, Downtown Boston, Boston, Suffolk County, Massachusetts, 02203, United States"
     ]
    }
   ],
   "source": [
    "write cityhall.address"
   ]
  },
  {
   "cell_type": "code",
   "execution_count": 13,
   "id": "0161932a",
   "metadata": {},
   "outputs": [
    {
     "name": "stdout",
     "output_type": "stream",
     "text": []
    }
   ],
   "source": [
    "set edificio = geolocator.reverse(\"41.4060085,2.1727896\")"
   ]
  },
  {
   "cell_type": "code",
   "execution_count": 14,
   "id": "ea05e5e6",
   "metadata": {},
   "outputs": [
    {
     "name": "stdout",
     "output_type": "stream",
     "text": [
      "edificio=9@%SYS.Python  ; 304, Carrer de la Marina, la Sagrada Família, Eixample, Barcelona, Barcelonès, Barcelona, Catalunya, 08025, España  ; <OREF>\r\n"
     ]
    }
   ],
   "source": [
    "zw edificio"
   ]
  },
  {
   "cell_type": "markdown",
   "id": "bf60f10e",
   "metadata": {},
   "source": [
    "## Pass data between Python and ObjectScript"
   ]
  },
  {
   "cell_type": "code",
   "execution_count": 15,
   "id": "44d8db80",
   "metadata": {},
   "outputs": [
    {
     "name": "stdout",
     "output_type": "stream",
     "text": []
    }
   ],
   "source": [
    "set builtins = ##class(%SYS.Python).Builtins()"
   ]
  },
  {
   "cell_type": "markdown",
   "id": "208783ac",
   "metadata": {},
   "source": [
    "### Python list!"
   ]
  },
  {
   "cell_type": "code",
   "execution_count": 16,
   "id": "12072148",
   "metadata": {},
   "outputs": [
    {
     "name": "stdout",
     "output_type": "stream",
     "text": []
    }
   ],
   "source": [
    "set newport = builtins.list()"
   ]
  },
  {
   "cell_type": "code",
   "execution_count": 17,
   "id": "f79505bc",
   "metadata": {},
   "outputs": [
    {
     "name": "stdout",
     "output_type": "stream",
     "text": []
    }
   ],
   "source": [
    "do newport.append(41.49008)"
   ]
  },
  {
   "cell_type": "code",
   "execution_count": 18,
   "id": "eb5e030c",
   "metadata": {},
   "outputs": [
    {
     "name": "stdout",
     "output_type": "stream",
     "text": [
      "newport=11@%SYS.Python  ; [41.49008, -71.312796]  ; <OREF>\r\n"
     ]
    }
   ],
   "source": [
    "do newport.append(-71.312796)\n",
    "zw newport"
   ]
  },
  {
   "cell_type": "code",
   "execution_count": 19,
   "id": "6b884359",
   "metadata": {},
   "outputs": [
    {
     "name": "stdout",
     "output_type": "stream",
     "text": []
    }
   ],
   "source": [
    "set cleveland = builtins.list()"
   ]
  },
  {
   "cell_type": "code",
   "execution_count": 20,
   "id": "6f2fe969",
   "metadata": {},
   "outputs": [
    {
     "name": "stdout",
     "output_type": "stream",
     "text": []
    }
   ],
   "source": [
    "do cleveland.append(41.499498)"
   ]
  },
  {
   "cell_type": "code",
   "execution_count": 21,
   "id": "a7c855f2",
   "metadata": {},
   "outputs": [
    {
     "name": "stdout",
     "output_type": "stream",
     "text": [
      "cleveland=12@%SYS.Python  ; [41.499498, -81.695391]  ; <OREF>\r\n"
     ]
    }
   ],
   "source": [
    "do cleveland.append(-81.695391)\n",
    "zw cleveland"
   ]
  },
  {
   "cell_type": "code",
   "execution_count": 22,
   "id": "e9d11cb5",
   "metadata": {},
   "outputs": [
    {
     "name": "stdout",
     "output_type": "stream",
     "text": []
    }
   ],
   "source": [
    "set distance = $system.Python.Import(\"geopy.distance\")"
   ]
  },
  {
   "cell_type": "code",
   "execution_count": 24,
   "id": "fa1b7cb6",
   "metadata": {},
   "outputs": [
    {
     "name": "stdout",
     "output_type": "stream",
     "text": []
    }
   ],
   "source": [
    "set route = distance.distance(newport, cleveland)"
   ]
  },
  {
   "cell_type": "code",
   "execution_count": 25,
   "id": "99c443de",
   "metadata": {},
   "outputs": [
    {
     "name": "stdout",
     "output_type": "stream",
     "text": [
      "538.3904453677203037\r\n"
     ]
    }
   ],
   "source": [
    "zw route.miles"
   ]
  },
  {
   "cell_type": "code",
   "execution_count": null,
   "id": "a2d8cb3c",
   "metadata": {},
   "outputs": [],
   "source": []
  }
 ],
 "metadata": {
  "kernelspec": {
   "display_name": "ObjectScript",
   "language": "",
   "name": "objectscript"
  },
  "language_info": {
   "file_extension": ".cls",
   "mimetype": "text/x-python",
   "name": "python"
  }
 },
 "nbformat": 4,
 "nbformat_minor": 5
}

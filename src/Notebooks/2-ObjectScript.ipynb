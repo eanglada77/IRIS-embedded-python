{
 "cells": [
  {
   "cell_type": "markdown",
   "id": "2aa88393",
   "metadata": {},
   "source": [
    "# Podemos usar ObjectScript desde Jupyter!"
   ]
  },
  {
   "cell_type": "code",
   "execution_count": 1,
   "id": "8e6a14d2",
   "metadata": {},
   "outputs": [
    {
     "name": "stdout",
     "output_type": "stream",
     "text": [
      "hello=\"helloworld2\"\r\n"
     ]
    }
   ],
   "source": [
    "Set hello = \"helloworld2\"\n",
    "zw hello"
   ]
  },
  {
   "cell_type": "markdown",
   "id": "3d0e0c8b",
   "metadata": {},
   "source": [
    "# Usando Python desde ObjectSCript"
   ]
  },
  {
   "cell_type": "code",
   "execution_count": 2,
   "id": "34244f15",
   "metadata": {},
   "outputs": [
    {
     "name": "stdout",
     "output_type": "stream",
     "text": [
      "datetime=3@%SYS.Python  ; <module 'datetime' from '/usr/lib/python3.8/datetime.py'>  ; <OREF>\r\n",
      "\"2022-03-29\"\r\n"
     ]
    }
   ],
   "source": [
    "set datetime = ##class(%SYS.Python).Import(\"datetime\")\n",
    "zw datetime\n",
    "zw datetime.date.today().isoformat()"
   ]
  },
  {
   "cell_type": "code",
   "execution_count": 3,
   "id": "4d2c3886",
   "metadata": {},
   "outputs": [
    {
     "name": "stdout",
     "output_type": "stream",
     "text": [
      "hello world\n"
     ]
    }
   ],
   "source": [
    "set rslt = ##class(%SYS.Python).Run(\"print('hello world')\")"
   ]
  },
  {
   "cell_type": "code",
   "execution_count": 4,
   "id": "8bffbab2",
   "metadata": {},
   "outputs": [
    {
     "name": "stdout",
     "output_type": "stream",
     "text": []
    }
   ],
   "source": [
    "zn \"USER\"\n",
    "do ##class(%EnsembleMgr).EnableNamespace(\"USER\") "
   ]
  },
  {
   "cell_type": "markdown",
   "id": "613d2504",
   "metadata": {},
   "source": [
    "## Generación de PDFs usando la librería reportlab"
   ]
  },
  {
   "cell_type": "code",
   "execution_count": 5,
   "id": "c822cb81",
   "metadata": {},
   "outputs": [
    {
     "name": "stdout",
     "output_type": "stream",
     "text": []
    }
   ],
   "source": [
    "do ##class(Demo.reportlab).CreateSamplePDF(\"/opt/irisapp/misc/sample.pdf\")"
   ]
  },
  {
   "cell_type": "markdown",
   "id": "f1a52cb5",
   "metadata": {},
   "source": [
    "## Georeferencias: geopy"
   ]
  },
  {
   "cell_type": "code",
   "execution_count": 6,
   "id": "e77d9aa5",
   "metadata": {},
   "outputs": [
    {
     "name": "stdout",
     "output_type": "stream",
     "text": []
    }
   ],
   "source": [
    "set geopy = ##class(%SYS.Python).Import(\"geopy\")"
   ]
  },
  {
   "cell_type": "code",
   "execution_count": 7,
   "id": "40b04939",
   "metadata": {},
   "outputs": [
    {
     "name": "stdout",
     "output_type": "stream",
     "text": []
    }
   ],
   "source": [
    "set args = { \"user_agent\": \"Embedded Python\" }"
   ]
  },
  {
   "cell_type": "code",
   "execution_count": 8,
   "id": "6c1ff308",
   "metadata": {},
   "outputs": [
    {
     "name": "stdout",
     "output_type": "stream",
     "text": []
    }
   ],
   "source": [
    "set geolocator = geopy.Nominatim(args...)"
   ]
  },
  {
   "cell_type": "code",
   "execution_count": 9,
   "id": "4cdbaac7",
   "metadata": {},
   "outputs": [
    {
     "name": "stdout",
     "output_type": "stream",
     "text": []
    }
   ],
   "source": [
    "set flatiron = geolocator.geocode(\"175 5th Avenue NYC\")"
   ]
  },
  {
   "cell_type": "code",
   "execution_count": 10,
   "id": "046943dd",
   "metadata": {},
   "outputs": [
    {
     "name": "stdout",
     "output_type": "stream",
     "text": [
      "Flatiron Building, 175, 5th Avenue, Flatiron District, Manhattan Community Board 5, Manhattan, New York, 10010, United States"
     ]
    }
   ],
   "source": [
    "write flatiron.address"
   ]
  },
  {
   "cell_type": "code",
   "execution_count": 11,
   "id": "f8ad5b4e",
   "metadata": {},
   "outputs": [
    {
     "name": "stdout",
     "output_type": "stream",
     "text": []
    }
   ],
   "source": [
    "set cityhall = geolocator.reverse(\"42.3604099,-71.060181\")"
   ]
  },
  {
   "cell_type": "code",
   "execution_count": 12,
   "id": "7554bed0",
   "metadata": {},
   "outputs": [
    {
     "name": "stdout",
     "output_type": "stream",
     "text": [
      "Government Center, Cambridge Street, Downtown Crossing, Downtown Boston, Boston, Suffolk County, Massachusetts, 02203, United States"
     ]
    }
   ],
   "source": [
    "write cityhall.address"
   ]
  },
  {
   "cell_type": "code",
   "execution_count": 13,
   "id": "22328543",
   "metadata": {},
   "outputs": [
    {
     "name": "stdout",
     "output_type": "stream",
     "text": []
    }
   ],
   "source": [
    "set edificio = geolocator.reverse(\"41.4060085,2.1727896\")"
   ]
  },
  {
   "cell_type": "code",
   "execution_count": 14,
   "id": "e6e60588",
   "metadata": {},
   "outputs": [
    {
     "name": "stdout",
     "output_type": "stream",
     "text": [
      "edificio=6@%SYS.Python  ; 304, Carrer de la Marina, la Sagrada Família, Eixample, Barcelona, Barcelonès, Barcelona, Catalunya, 08025, España  ; <OREF>\r\n"
     ]
    }
   ],
   "source": [
    "zw edificio"
   ]
  },
  {
   "cell_type": "markdown",
   "id": "53b37f91",
   "metadata": {},
   "source": [
    "## Paso de datos entre Python y ObjectScript"
   ]
  },
  {
   "cell_type": "code",
   "execution_count": 15,
   "id": "b1863d99",
   "metadata": {},
   "outputs": [
    {
     "name": "stdout",
     "output_type": "stream",
     "text": []
    }
   ],
   "source": [
    "set builtins = ##class(%SYS.Python).Builtins()"
   ]
  },
  {
   "cell_type": "markdown",
   "id": "743b801a",
   "metadata": {},
   "source": [
    "### Python list!"
   ]
  },
  {
   "cell_type": "code",
   "execution_count": 16,
   "id": "4f948538",
   "metadata": {},
   "outputs": [
    {
     "name": "stdout",
     "output_type": "stream",
     "text": []
    }
   ],
   "source": [
    "set newport = builtins.list()"
   ]
  },
  {
   "cell_type": "code",
   "execution_count": 17,
   "id": "2b94b54e",
   "metadata": {},
   "outputs": [
    {
     "name": "stdout",
     "output_type": "stream",
     "text": []
    }
   ],
   "source": [
    "do newport.append(41.49008)"
   ]
  },
  {
   "cell_type": "code",
   "execution_count": 18,
   "id": "af0733e9",
   "metadata": {},
   "outputs": [
    {
     "name": "stdout",
     "output_type": "stream",
     "text": [
      "newport=17@%SYS.Python  ; [41.49008, -71.312796]  ; <OREF>\r\n"
     ]
    }
   ],
   "source": [
    "do newport.append(-71.312796)\n",
    "zw newport"
   ]
  },
  {
   "cell_type": "code",
   "execution_count": 19,
   "id": "8137e18c",
   "metadata": {},
   "outputs": [
    {
     "name": "stdout",
     "output_type": "stream",
     "text": []
    }
   ],
   "source": [
    "set cleveland = builtins.list()"
   ]
  },
  {
   "cell_type": "code",
   "execution_count": 20,
   "id": "a6105439",
   "metadata": {},
   "outputs": [
    {
     "name": "stdout",
     "output_type": "stream",
     "text": []
    }
   ],
   "source": [
    "do cleveland.append(41.499498)"
   ]
  },
  {
   "cell_type": "code",
   "execution_count": 21,
   "id": "5315ad19",
   "metadata": {},
   "outputs": [
    {
     "name": "stdout",
     "output_type": "stream",
     "text": [
      "cleveland=36@%SYS.Python  ; [41.499498, -81.695391]  ; <OREF>\r\n"
     ]
    }
   ],
   "source": [
    "do cleveland.append(-81.695391)\n",
    "zw cleveland"
   ]
  },
  {
   "cell_type": "code",
   "execution_count": 22,
   "id": "aeb4d77e",
   "metadata": {},
   "outputs": [
    {
     "name": "stdout",
     "output_type": "stream",
     "text": []
    }
   ],
   "source": [
    "set distance = $system.Python.Import(\"geopy.distance\")"
   ]
  },
  {
   "cell_type": "code",
   "execution_count": 23,
   "id": "675719d1",
   "metadata": {},
   "outputs": [
    {
     "name": "stdout",
     "output_type": "stream",
     "text": []
    }
   ],
   "source": [
    "set route = distance.distance(newport, cleveland)"
   ]
  },
  {
   "cell_type": "code",
   "execution_count": 24,
   "id": "69350ae8",
   "metadata": {},
   "outputs": [
    {
     "name": "stdout",
     "output_type": "stream",
     "text": [
      "538.3904453677203037\r\n"
     ]
    }
   ],
   "source": [
    "zw route.miles"
   ]
  },
  {
   "cell_type": "markdown",
   "id": "2d9a0f63",
   "metadata": {},
   "source": [
    "# Cómo llamar a un método, escrito en Python, de una clase ObjecScript"
   ]
  },
  {
   "cell_type": "markdown",
   "id": "d70b1d71",
   "metadata": {},
   "source": [
    "```\n",
    "Class ObjectScript.Sample.Address Extends %Library.Persistent\n",
    "{\n",
    "\n",
    "Property AddressLine1 As %String;\n",
    "\n",
    "Property AddressLine2 As %String;\n",
    "\n",
    "Property City As %String;\n",
    "\n",
    "Property State As %String;\n",
    "\n",
    "Property PostalCode As %String;\n",
    "\n",
    "Method Normalize(addr As %String) [ Language = python ]\n",
    "{\n",
    "\n",
    "        from scourgify import normalize_address_record\n",
    "        normalized = normalize_address_record(addr)\n",
    "\n",
    "        self.AddressLine1 = normalized['address_line_1']\n",
    "        self.AddressLine2 = normalized['address_line_2']\n",
    "        self.City = normalized['city']\n",
    "        self.State = normalized['state']\n",
    "        self.PostalCode = normalized['postal_code']\n",
    "}\n",
    "    \n",
    "}\n",
    "```"
   ]
  },
  {
   "cell_type": "code",
   "execution_count": 25,
   "id": "e86705a1",
   "metadata": {},
   "outputs": [
    {
     "name": "stdout",
     "output_type": "stream",
     "text": [
      "a=24@ObjectScript.Sample.Address  ; <OREF>\r\n",
      "+----------------- general information ---------------\r\n",
      "|      oref value: 24\r\n",
      "|      class name: ObjectScript.Sample.Address\r\n",
      "| reference count: 2\r\n",
      "+----------------- attribute values ------------------\r\n",
      "|       %Concurrency = 1  <Set>\r\n",
      "|       AddressLine1 = \"ONE MEMORIAL DR\"\r\n",
      "|       AddressLine2 = \"FL 8TH\"\r\n",
      "|               City = \"CAMBRIDGE\"\r\n",
      "|         PostalCode = \"02142\"\r\n",
      "|              State = \"MA\"\r\n",
      "+-----------------------------------------------------\r\n"
     ]
    }
   ],
   "source": [
    "set a = ##class(ObjectScript.Sample.Address).%New()\n",
    "do a.Normalize(\"One Memorial Drive, 8th Floor, Cambridge, Massachusetts 02142\")\n",
    "zw a"
   ]
  },
  {
   "cell_type": "markdown",
   "id": "7e29e5a1",
   "metadata": {},
   "source": [
    "## Usando las funciones internas de Python"
   ]
  },
  {
   "cell_type": "code",
   "execution_count": 26,
   "id": "69c2cb07",
   "metadata": {},
   "outputs": [
    {
     "name": "stdout",
     "output_type": "stream",
     "text": []
    }
   ],
   "source": [
    "set builtins = ##class(%SYS.Python).Import(\"builtins\")"
   ]
  },
  {
   "cell_type": "code",
   "execution_count": 27,
   "id": "0c728ae7",
   "metadata": {},
   "outputs": [
    {
     "name": "stdout",
     "output_type": "stream",
     "text": [
      "hello world!\n"
     ]
    }
   ],
   "source": [
    "do builtins.print(\"hello world!\")"
   ]
  },
  {
   "cell_type": "markdown",
   "id": "9ec53492",
   "metadata": {},
   "source": [
    "# Nombres\n",
    "_ está permitido!"
   ]
  },
  {
   "cell_type": "code",
   "execution_count": 28,
   "id": "f49f69fb",
   "metadata": {},
   "outputs": [
    {
     "name": "stdout",
     "output_type": "stream",
     "text": []
    }
   ],
   "source": [
    "set mylist = builtins.list()"
   ]
  },
  {
   "cell_type": "code",
   "execution_count": 29,
   "id": "3c968d04",
   "metadata": {},
   "outputs": [
    {
     "name": "stdout",
     "output_type": "stream",
     "text": [
      "22@%SYS.Python  ; <class 'list'>  ; <OREF>\r\n"
     ]
    }
   ],
   "source": [
    "zwrite mylist.\"__class__\""
   ]
  },
  {
   "cell_type": "markdown",
   "id": "3171740d",
   "metadata": {},
   "source": [
    "# Argumentos con nombre\n",
    "En Python se usan argumentos con nombre cuando definimos un método:\n",
    "```python\n",
    "def mymethod(foo=1, bar=2, baz=\"three\"):\n",
    "    print(f\"foo={foo}, bar={bar}, baz={baz}\")\n",
    "```"
   ]
  },
  {
   "cell_type": "code",
   "execution_count": 30,
   "id": "d87d3a25",
   "metadata": {},
   "outputs": [
    {
     "name": "stdout",
     "output_type": "stream",
     "text": []
    }
   ],
   "source": [
    "set args={ \"bar\": 123, \"foo\": \"foo\"}"
   ]
  },
  {
   "cell_type": "markdown",
   "id": "cd061ac3",
   "metadata": {},
   "source": [
    "set obj = ##class(%SYS.Python).Import(\"mymodule\")\n",
    "\n",
    "set args={ \"bar\": 123, \"foo\": \"foo\"}\n",
    "\n",
    "do obj.mymethod(args...)\n",
    "\n",
    "foo=foo, bar=123, baz=three"
   ]
  },
  {
   "cell_type": "markdown",
   "id": "bbbac2a9",
   "metadata": {},
   "source": [
    "# Paso de argumentos por referencia\n",
    "Como python no soporta el paso por referencia hay que usar iris.ref()"
   ]
  },
  {
   "cell_type": "markdown",
   "id": "9cc8ff19",
   "metadata": {},
   "source": [
    "```\n",
    "ClassMethod SandwichSwitch(bread As %String, ByRef filling1 As %String, ByRef filling2 As %String)\n",
    "{\n",
    "    set bread = \"whole wheat\"\n",
    "    set filling1 = \"almond butter\"\n",
    "    set filling2 = \"cherry preserves\"\n",
    "}\n",
    "```"
   ]
  },
  {
   "cell_type": "code",
   "execution_count": 31,
   "id": "ab8eaccd",
   "metadata": {},
   "outputs": [
    {
     "name": "stdout",
     "output_type": "stream",
     "text": [
      "white bread"
     ]
    }
   ],
   "source": [
    "set arg1 = \"white bread\"\n",
    "set arg2 = \"peanut butter\"\n",
    "set arg3 = \"grape jelly\"\n",
    "do ##class(ObjectScript.Sample.Sandwich).SandwichSwitch(arg1, .arg2, .arg3)\n",
    " \n",
    "write arg1"
   ]
  },
  {
   "cell_type": "code",
   "execution_count": 32,
   "id": "0c81927e",
   "metadata": {},
   "outputs": [
    {
     "name": "stdout",
     "output_type": "stream",
     "text": [
      "almond butter"
     ]
    }
   ],
   "source": [
    "write arg2\n"
   ]
  },
  {
   "cell_type": "code",
   "execution_count": 33,
   "id": "f405920f",
   "metadata": {},
   "outputs": [
    {
     "name": "stdout",
     "output_type": "stream",
     "text": [
      "cherry preserves"
     ]
    }
   ],
   "source": [
    "write arg3"
   ]
  },
  {
   "cell_type": "markdown",
   "id": "676e69c6",
   "metadata": {},
   "source": [
    "En python:\n",
    "```\n",
    "import iris\n",
    "arg1 = \"white bread\"\n",
    "arg2 = iris.ref(\"peanut butter\")\n",
    "arg3 = iris.ref(\"grape jelly\")\n",
    "iris.cls('User.EmbeddedPython').SandwichSwitch(arg1, arg2, arg3)\n",
    "```"
   ]
  },
  {
   "cell_type": "markdown",
   "id": "78899188",
   "metadata": {},
   "source": [
    "```shell\n",
    ">>> arg1\n",
    "'white bread'\n",
    ">>> arg2.value\n",
    "'almond butter'\n",
    ">>> arg3.value\n",
    "'cherry preserves'\n",
    "```"
   ]
  },
  {
   "cell_type": "markdown",
   "id": "cb5d58d7",
   "metadata": {},
   "source": [
    "# Excepciones"
   ]
  },
  {
   "cell_type": "code",
   "execution_count": 34,
   "id": "931b8f42",
   "metadata": {},
   "outputs": [
    {
     "name": "stdout",
     "output_type": "stream",
     "text": []
    }
   ],
   "source": [
    "set canvaslib = ##class(%SYS.Python).Import(\"reportlab.pdfgen.canvas\")\n",
    "set canvas = canvaslib.Canvas(\"/tmp/test.pdf\")"
   ]
  },
  {
   "cell_type": "code",
   "execution_count": 35,
   "id": "1830f7f2",
   "metadata": {},
   "outputs": [
    {
     "name": "stdout",
     "output_type": "stream",
     "text": [
      "\"Se ha producido una excepción!\"\r\n"
     ]
    }
   ],
   "source": [
    "try { do canvas.drawImage(\"/tmp/bad.png\", 150, 600) } catch { zw \"Se ha producido una excepción!\" }"
   ]
  },
  {
   "cell_type": "markdown",
   "id": "20a89475",
   "metadata": {},
   "source": [
    "# True, false, None\n",
    "Hay que usar %SYS.Python"
   ]
  },
  {
   "cell_type": "code",
   "execution_count": 36,
   "id": "5689ffd1",
   "metadata": {},
   "outputs": [
    {
     "name": "stdout",
     "output_type": "stream",
     "text": [
      "27@%SYS.Python  ; True  ; <OREF>\r\n"
     ]
    }
   ],
   "source": [
    "zw ##class(%SYS.Python).True()"
   ]
  },
  {
   "cell_type": "markdown",
   "id": "030c04f3",
   "metadata": {},
   "source": [
    "# Diccionarios: clave-valor"
   ]
  },
  {
   "cell_type": "markdown",
   "id": "7a534c72",
   "metadata": {},
   "source": [
    "En python:\n",
    "```\n",
    ">>> mycar = {\n",
    "...     \"make\": \"Toyota\",\n",
    "...     \"model\": \"RAV4\",\n",
    "...     \"color\": \"blue\"\n",
    "... }\n",
    ">>> print(mycar)\n",
    "{'make': 'Toyota', 'model': 'RAV4', 'color': 'blue'}\n",
    ">>> print(mycar[\"color\"])\n",
    "blue\n",
    "```"
   ]
  },
  {
   "cell_type": "code",
   "execution_count": 37,
   "id": "8d540118",
   "metadata": {},
   "outputs": [
    {
     "name": "stdout",
     "output_type": "stream",
     "text": []
    }
   ],
   "source": [
    "set mycar = ##class(%SYS.Python).Builtins().dict()"
   ]
  },
  {
   "cell_type": "code",
   "execution_count": 38,
   "id": "0ad3fb84",
   "metadata": {},
   "outputs": [
    {
     "name": "stdout",
     "output_type": "stream",
     "text": []
    }
   ],
   "source": [
    "do mycar.setdefault(\"make\", \"Toyota\")"
   ]
  },
  {
   "cell_type": "code",
   "execution_count": 39,
   "id": "e87b519e",
   "metadata": {},
   "outputs": [
    {
     "name": "stdout",
     "output_type": "stream",
     "text": []
    }
   ],
   "source": [
    "do mycar.setdefault(\"model\", \"RAV4\")"
   ]
  },
  {
   "cell_type": "code",
   "execution_count": 40,
   "id": "a04a76c0",
   "metadata": {},
   "outputs": [
    {
     "name": "stdout",
     "output_type": "stream",
     "text": []
    }
   ],
   "source": [
    "do mycar.setdefault(\"color\", \"blue\")"
   ]
  },
  {
   "cell_type": "code",
   "execution_count": 41,
   "id": "b0d0a757",
   "metadata": {},
   "outputs": [
    {
     "name": "stdout",
     "output_type": "stream",
     "text": [
      "mycar=25@%SYS.Python  ; {'make': 'Toyota', 'model': 'RAV4', 'color': 'blue'}  ; <OREF>\r\n"
     ]
    }
   ],
   "source": [
    "zw mycar"
   ]
  },
  {
   "cell_type": "code",
   "execution_count": null,
   "id": "c2490782",
   "metadata": {},
   "outputs": [],
   "source": []
  }
 ],
 "metadata": {
  "kernelspec": {
   "display_name": "ObjectScript",
   "language": "",
   "name": "objectscript"
  },
  "language_info": {
   "file_extension": ".cls",
   "mimetype": "text/x-python",
   "name": "python"
  }
 },
 "nbformat": 4,
 "nbformat_minor": 5
}
